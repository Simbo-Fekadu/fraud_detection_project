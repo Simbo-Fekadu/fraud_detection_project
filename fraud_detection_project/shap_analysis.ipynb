{
 "cells": [
  {
   "cell_type": "code",
   "execution_count": 5,
   "id": "0f057aaf",
   "metadata": {},
   "outputs": [
    {
     "name": "stdout",
     "output_type": "stream",
     "text": [
      "SHAP analysis complete. Plots saved as 'shap_fraud_summary.png' and 'shap_creditcard_summary.png'.\n",
      "Execution time: 0.44 minutes\n"
     ]
    }
   ],
   "source": [
    "import pandas as pd\n",
    "import xgboost as xgb\n",
    "from sklearn.model_selection import train_test_split\n",
    "import shap\n",
    "import matplotlib.pyplot as plt\n",
    "import time\n",
    "\n",
    "# Start timer\n",
    "start_time = time.time()\n",
    "\n",
    "# Load datasets\n",
    "try:\n",
    "    fraud_data = pd.read_csv('Fraud_Data_transformed.csv')\n",
    "    fraud_labels = pd.read_csv('Fraud_Data_labels.csv')\n",
    "    creditcard_data = pd.read_csv('creditcard_scaled.csv')\n",
    "    creditcard_labels = pd.read_csv('creditcard_labels.csv')\n",
    "except FileNotFoundError as e:\n",
    "    print(f\"Error: {e}\")\n",
    "    exit(1)\n",
    "\n",
    "# Subsample for speed\n",
    "sample_size = 1000  # Adjust based on your hardware\n",
    "fraud_data = fraud_data.sample(n=min(sample_size, len(fraud_data)), random_state=42)\n",
    "fraud_labels = fraud_labels.loc[fraud_data.index]\n",
    "creditcard_data = creditcard_data.sample(n=min(sample_size, len(creditcard_data)), random_state=42)\n",
    "creditcard_labels = creditcard_labels.loc[creditcard_data.index]\n",
    "\n",
    "# Prepare Fraud_Data\n",
    "min_len = min(len(fraud_data), len(fraud_labels))\n",
    "X_fraud = fraud_data.iloc[:min_len].reset_index(drop=True)\n",
    "y_fraud = fraud_labels.iloc[:min_len, 0].reset_index(drop=True)\n",
    "X_fraud_train, X_fraud_test, y_fraud_train, y_fraud_test = train_test_split(X_fraud, y_fraud, test_size=0.2, random_state=42, stratify=y_fraud)\n",
    "\n",
    "# Prepare creditcard\n",
    "X_credit = creditcard_data\n",
    "y_credit = creditcard_labels.iloc[:, 0]\n",
    "X_credit_train, X_credit_test, y_credit_train, y_credit_test = train_test_split(X_credit, y_credit, test_size=0.2, random_state=42, stratify=y_credit)\n",
    "\n",
    "# Train XGBoost\n",
    "xgb_model = xgb.XGBClassifier(random_state=42, n_estimators=50, max_depth=3, n_jobs=-1)\n",
    "xgb_model.fit(X_fraud_train, y_fraud_train)\n",
    "xgb_model_credit = xgb.XGBClassifier(random_state=42, n_estimators=50, max_depth=3, n_jobs=-1)\n",
    "xgb_model_credit.fit(X_credit_train, y_credit_train)\n",
    "\n",
    "# SHAP explainer\n",
    "explainer_fraud = shap.TreeExplainer(xgb_model)\n",
    "shap_values_fraud = explainer_fraud.shap_values(X_fraud_test)\n",
    "\n",
    "explainer_credit = shap.TreeExplainer(xgb_model_credit)\n",
    "shap_values_credit = explainer_credit.shap_values(X_credit_test)\n",
    "\n",
    "# Plot SHAP summary for Fraud_Data\n",
    "plt.figure()\n",
    "shap.summary_plot(shap_values_fraud, X_fraud_test, plot_type=\"bar\", show=False)\n",
    "plt.title(\"SHAP Feature Importance - Fraud_Data\")\n",
    "plt.tight_layout()\n",
    "plt.savefig('shap_fraud_summary.png')\n",
    "plt.close()\n",
    "\n",
    "# Plot SHAP summary for creditcard\n",
    "plt.figure()\n",
    "shap.summary_plot(shap_values_credit, X_credit_test, plot_type=\"bar\", show=False)\n",
    "plt.title(\"SHAP Feature Importance - creditcard\")\n",
    "plt.tight_layout()\n",
    "plt.savefig('shap_creditcard_summary.png')\n",
    "plt.close()\n",
    "\n",
    "print(\"SHAP analysis complete. Plots saved as 'shap_fraud_summary.png' and 'shap_creditcard_summary.png'.\")\n",
    "print(f\"Execution time: {(time.time() - start_time) / 60:.2f} minutes\")"
   ]
  }
 ],
 "metadata": {
  "kernelspec": {
   "display_name": "base",
   "language": "python",
   "name": "python3"
  },
  "language_info": {
   "codemirror_mode": {
    "name": "ipython",
    "version": 3
   },
   "file_extension": ".py",
   "mimetype": "text/x-python",
   "name": "python",
   "nbconvert_exporter": "python",
   "pygments_lexer": "ipython3",
   "version": "3.12.3"
  }
 },
 "nbformat": 4,
 "nbformat_minor": 5
}
